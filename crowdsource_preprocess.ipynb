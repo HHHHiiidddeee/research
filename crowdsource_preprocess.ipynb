{
 "cells": [
  {
   "cell_type": "code",
   "execution_count": 1,
   "id": "e81ec3de-aa42-4efb-b1fe-1c2222846f92",
   "metadata": {},
   "outputs": [],
   "source": [
    "import numpy as np\n",
    "import pandas as pd\n",
    "import matplotlib.pyplot as plt\n",
    "import mne\n",
    "from mne.io import RawArray\n",
    "from mne import create_info, EpochsArray\n",
    "from mne_icalabel import label_components\n",
    "from mne.decoding import Scaler\n",
    "import os"
   ]
  },
  {
   "cell_type": "code",
   "execution_count": 2,
   "id": "ae8b4382-cb07-4149-ab47-35b1d426f2c5",
   "metadata": {},
   "outputs": [],
   "source": [
    "folder_path = \"dataset/Crowdsource processed data/\"\n",
    "files = os.listdir(folder_path)"
   ]
  },
  {
   "cell_type": "code",
   "execution_count": 3,
   "id": "ddc2ac2d-a72e-4105-a193-058a1ec1586f",
   "metadata": {},
   "outputs": [
    {
     "data": {
      "text/plain": [
       "['Alpha Supression_EPOCPLUS_2020_11_10T12_58_downsampled_output.csv',\n",
       " 'Alpha Supression_EPOCPLUS_2020_11_12T15_07_downsampled_output.csv',\n",
       " 'Alpha Supression_EPOCPLUS_2021_02_28T14_03_downsampled_output.csv',\n",
       " 'Alpha Supression_EPOCPLUS_2021_02_28T15_27_downsampled_output.csv',\n",
       " 'Alpha Supression_EPOCPLUS_2021_03_01T16_57_downsampled_output.csv',\n",
       " 'Alpha Supression_EPOCPLUS_2021_03_01T21_53_downsampled_output.csv',\n",
       " 'Alpha Supression_EPOCX_2021_02_28T22_30_downsampled_output.csv',\n",
       " 'Alpha Supression_EPOCX_2021_03_12T22_45_downsampled_output.csv',\n",
       " 'Alpha Supression_EPOCX_2021_03_19T02_12_downsampled_output.csv',\n",
       " 'Alpha Supression_EPOCX_2021_04_06T14_46_downsampled_output.csv',\n",
       " 'Alpha Supression_EPOCX_2021_07_10T13_32_downsampled_output.csv',\n",
       " 'Alpha Supression_EPOCX_2021_07_17T20_44_downsampled_output.csv',\n",
       " 'Alpha Supression_EPOC_2020_11_27T22_20_downsampled_output.csv',\n",
       " 'Alpha Supression_INSIGHT_2020_11_23T22_08_downsampled_output.csv',\n",
       " 'Alpha Supression_INSIGHT_2020_12_02T12_24_downsampled_output.csv',\n",
       " 'Alpha Supression_INSIGHT_2020_12_17T22_46_downsampled_output.csv',\n",
       " 'Alpha Supression_INSIGHT_2021_01_26T11_33_downsampled_output.csv',\n",
       " 'Alpha Supression_INSIGHT_2021_02_04T22_17_downsampled_output.csv',\n",
       " 'Alpha Supression_INSIGHT_2021_02_17T15_19_downsampled_output.csv',\n",
       " 'Alpha Supression_INSIGHT_2021_02_23T13_48_downsampled_output.csv',\n",
       " 'Alpha Supression_INSIGHT_2021_02_26T12_52_downsampled_output.csv',\n",
       " 'Alpha Supression_INSIGHT_2021_03_03T23_02_downsampled_output.csv',\n",
       " 'Alpha Supression_INSIGHT_2021_04_01T16_31_downsampled_output.csv',\n",
       " 'Alpha Supression_INSIGHT_2021_04_19T20_19_downsampled_output.csv',\n",
       " 'Alpha Supression_INSIGHT_2021_05_25T23_59_downsampled_output.csv',\n",
       " 'Alpha Supression_INSIGHT_2021_07_13T16_10_downsampled_output.csv',\n",
       " 'Alpha Supression_INSIGHT_2021_08_14T18_20_downsampled_output.csv']"
      ]
     },
     "execution_count": 3,
     "metadata": {},
     "output_type": "execute_result"
    }
   ],
   "source": [
    "files"
   ]
  },
  {
   "cell_type": "code",
   "execution_count": 4,
   "id": "49aa6902-aa22-471c-96c2-68311cc99f43",
   "metadata": {},
   "outputs": [
    {
     "name": "stderr",
     "output_type": "stream",
     "text": [
      "C:\\Users\\sh204\\AppData\\Local\\Temp\\ipykernel_23172\\2202653997.py:5: DtypeWarning: Columns (14) have mixed types. Specify dtype option on import or set low_memory=False.\n",
      "  df = pd.read_csv(folder_path + file)\n"
     ]
    }
   ],
   "source": [
    "df_list = []\n",
    "y = []\n",
    "\n",
    "for file in files:\n",
    "    df = pd.read_csv(folder_path + file)\n",
    "    eyesopen_df = df[df[\"marker_label\"] == \"eyesopen_element\"]\n",
    "    eyesclose_df = df[df[\"marker_label\"] == \"eyesclose_element\"]\n",
    "    if len(df.columns) > 14 and len(eyesopen_df) >= 15360 and len(eyesopen_df) >= 15360:\n",
    "        df_list.append(eyesopen_df.iloc[:15360])\n",
    "        y.append(1)\n",
    "        df_list.append(eyesclose_df.iloc[:15360])\n",
    "        y.append(0)\n",
    "        \n",
    "y = np.array(y)"
   ]
  },
  {
   "cell_type": "code",
   "execution_count": 5,
   "id": "ae0b3651-72e2-4a0d-af42-92f22f9fd1d6",
   "metadata": {},
   "outputs": [],
   "source": [
    "channels = df_list[0].columns\n",
    "channels = channels[:-1]\n",
    "eeg_channels = [\"AF3\", \"F7\", \"F3\", \"FC5\", \"T7\", \"P7\", \"O1\", \"O2\", \"P8\", \"T8\", \"FC6\", \"F4\", \"F8\", \"AF4\"]\n",
    "info = create_info(ch_names=eeg_channels, sfreq=128, ch_types=\"eeg\")\n",
    "montage = mne.channels.make_standard_montage('standard_1020')\n",
    "\n",
    "raws = []\n",
    "X = []\n",
    "for df in df_list:\n",
    "    x = df.loc[:, channels].to_numpy()\n",
    "    x = np.transpose(x, (1, 0))\n",
    "    # X.append(x)\n",
    "    \n",
    "    # x_fft = np.fft.rfft(x.copy(), axis=-1)  \n",
    "    # time = np.arange(x_fft.shape[-1])\n",
    "    # freq = np.fft.rfftfreq(len(time), d=1/128)\n",
    "    # x_fft[:, np.where(freq < 1)] = 0\n",
    "    # x_fft[:, np.where(freq > 100)] = 0\n",
    "    # x_ifft = np.fft.irfft(x_fft)\n",
    "\n",
    "    # raw = RawArray(x_ifft.copy(), info=info, verbose=0)\n",
    "    raw = RawArray(x.copy(), info=info, verbose=0)\n",
    "    raw.set_montage(montage)\n",
    "    raw.set_eeg_reference(\"average\", verbose=0)\n",
    "    raws.append(raw)\n",
    "    \n",
    "# X = np.array(X)"
   ]
  },
  {
   "cell_type": "code",
   "execution_count": 6,
   "id": "a030856f-ec67-459d-a6f5-1e3a95b9c8f4",
   "metadata": {},
   "outputs": [],
   "source": [
    "X = np.vstack([[raws[i].copy().get_data() for i in range(len(raws))]])"
   ]
  },
  {
   "cell_type": "code",
   "execution_count": 7,
   "id": "e0405a3a-8f8c-4fb2-a1c8-35b94580c6c7",
   "metadata": {},
   "outputs": [],
   "source": [
    "for i in range(len(raws)):\n",
    "    raws[i].filter(l_freq=1, h_freq=63.9, verbose=0)\n",
    "    raws[i].set_eeg_reference(\"average\", verbose=0)"
   ]
  },
  {
   "cell_type": "code",
   "execution_count": 8,
   "id": "f868f8db-04c6-4911-be83-1b074ea00591",
   "metadata": {
    "scrolled": true
   },
   "outputs": [
    {
     "name": "stdout",
     "output_type": "stream",
     "text": [
      "NOTE: pick_channels() is a legacy function. New code should use inst.pick(...).\n"
     ]
    },
    {
     "name": "stderr",
     "output_type": "stream",
     "text": [
      "C:\\Users\\sh204\\AppData\\Local\\Temp\\ipykernel_23172\\3998698722.py:13: RuntimeWarning: The provided Raw instance is not filtered between 1 and 100 Hz. ICLabel was designed to classify features extracted from an EEG dataset bandpass filtered between 1 and 100 Hz (see the 'filter()' method for Raw and Epochs instances).\n",
      "  ic_labels = label_components(raw, ica, method=\"iclabel\")\n"
     ]
    },
    {
     "name": "stdout",
     "output_type": "stream",
     "text": [
      "NOTE: pick_channels() is a legacy function. New code should use inst.pick(...).\n"
     ]
    },
    {
     "name": "stderr",
     "output_type": "stream",
     "text": [
      "C:\\Users\\sh204\\AppData\\Local\\Temp\\ipykernel_23172\\3998698722.py:13: RuntimeWarning: The provided Raw instance is not filtered between 1 and 100 Hz. ICLabel was designed to classify features extracted from an EEG dataset bandpass filtered between 1 and 100 Hz (see the 'filter()' method for Raw and Epochs instances).\n",
      "  ic_labels = label_components(raw, ica, method=\"iclabel\")\n"
     ]
    },
    {
     "name": "stdout",
     "output_type": "stream",
     "text": [
      "NOTE: pick_channels() is a legacy function. New code should use inst.pick(...).\n"
     ]
    },
    {
     "name": "stderr",
     "output_type": "stream",
     "text": [
      "C:\\Users\\sh204\\AppData\\Local\\Temp\\ipykernel_23172\\3998698722.py:13: RuntimeWarning: The provided Raw instance is not filtered between 1 and 100 Hz. ICLabel was designed to classify features extracted from an EEG dataset bandpass filtered between 1 and 100 Hz (see the 'filter()' method for Raw and Epochs instances).\n",
      "  ic_labels = label_components(raw, ica, method=\"iclabel\")\n"
     ]
    },
    {
     "name": "stdout",
     "output_type": "stream",
     "text": [
      "NOTE: pick_channels() is a legacy function. New code should use inst.pick(...).\n"
     ]
    },
    {
     "name": "stderr",
     "output_type": "stream",
     "text": [
      "C:\\Users\\sh204\\AppData\\Local\\Temp\\ipykernel_23172\\3998698722.py:13: RuntimeWarning: The provided Raw instance is not filtered between 1 and 100 Hz. ICLabel was designed to classify features extracted from an EEG dataset bandpass filtered between 1 and 100 Hz (see the 'filter()' method for Raw and Epochs instances).\n",
      "  ic_labels = label_components(raw, ica, method=\"iclabel\")\n"
     ]
    },
    {
     "name": "stdout",
     "output_type": "stream",
     "text": [
      "NOTE: pick_channels() is a legacy function. New code should use inst.pick(...).\n"
     ]
    },
    {
     "name": "stderr",
     "output_type": "stream",
     "text": [
      "C:\\Users\\sh204\\AppData\\Local\\Temp\\ipykernel_23172\\3998698722.py:13: RuntimeWarning: The provided Raw instance is not filtered between 1 and 100 Hz. ICLabel was designed to classify features extracted from an EEG dataset bandpass filtered between 1 and 100 Hz (see the 'filter()' method for Raw and Epochs instances).\n",
      "  ic_labels = label_components(raw, ica, method=\"iclabel\")\n"
     ]
    },
    {
     "name": "stdout",
     "output_type": "stream",
     "text": [
      "NOTE: pick_channels() is a legacy function. New code should use inst.pick(...).\n"
     ]
    },
    {
     "name": "stderr",
     "output_type": "stream",
     "text": [
      "C:\\Users\\sh204\\AppData\\Local\\Temp\\ipykernel_23172\\3998698722.py:13: RuntimeWarning: The provided Raw instance is not filtered between 1 and 100 Hz. ICLabel was designed to classify features extracted from an EEG dataset bandpass filtered between 1 and 100 Hz (see the 'filter()' method for Raw and Epochs instances).\n",
      "  ic_labels = label_components(raw, ica, method=\"iclabel\")\n"
     ]
    },
    {
     "name": "stdout",
     "output_type": "stream",
     "text": [
      "NOTE: pick_channels() is a legacy function. New code should use inst.pick(...).\n"
     ]
    },
    {
     "name": "stderr",
     "output_type": "stream",
     "text": [
      "C:\\Users\\sh204\\AppData\\Local\\Temp\\ipykernel_23172\\3998698722.py:13: RuntimeWarning: The provided Raw instance is not filtered between 1 and 100 Hz. ICLabel was designed to classify features extracted from an EEG dataset bandpass filtered between 1 and 100 Hz (see the 'filter()' method for Raw and Epochs instances).\n",
      "  ic_labels = label_components(raw, ica, method=\"iclabel\")\n"
     ]
    },
    {
     "name": "stdout",
     "output_type": "stream",
     "text": [
      "NOTE: pick_channels() is a legacy function. New code should use inst.pick(...).\n"
     ]
    },
    {
     "name": "stderr",
     "output_type": "stream",
     "text": [
      "C:\\Users\\sh204\\AppData\\Local\\Temp\\ipykernel_23172\\3998698722.py:13: RuntimeWarning: The provided Raw instance is not filtered between 1 and 100 Hz. ICLabel was designed to classify features extracted from an EEG dataset bandpass filtered between 1 and 100 Hz (see the 'filter()' method for Raw and Epochs instances).\n",
      "  ic_labels = label_components(raw, ica, method=\"iclabel\")\n"
     ]
    },
    {
     "name": "stdout",
     "output_type": "stream",
     "text": [
      "NOTE: pick_channels() is a legacy function. New code should use inst.pick(...).\n"
     ]
    },
    {
     "name": "stderr",
     "output_type": "stream",
     "text": [
      "C:\\Users\\sh204\\AppData\\Local\\Temp\\ipykernel_23172\\3998698722.py:13: RuntimeWarning: The provided Raw instance is not filtered between 1 and 100 Hz. ICLabel was designed to classify features extracted from an EEG dataset bandpass filtered between 1 and 100 Hz (see the 'filter()' method for Raw and Epochs instances).\n",
      "  ic_labels = label_components(raw, ica, method=\"iclabel\")\n"
     ]
    },
    {
     "name": "stdout",
     "output_type": "stream",
     "text": [
      "NOTE: pick_channels() is a legacy function. New code should use inst.pick(...).\n"
     ]
    },
    {
     "name": "stderr",
     "output_type": "stream",
     "text": [
      "C:\\Users\\sh204\\AppData\\Local\\Temp\\ipykernel_23172\\3998698722.py:13: RuntimeWarning: The provided Raw instance is not filtered between 1 and 100 Hz. ICLabel was designed to classify features extracted from an EEG dataset bandpass filtered between 1 and 100 Hz (see the 'filter()' method for Raw and Epochs instances).\n",
      "  ic_labels = label_components(raw, ica, method=\"iclabel\")\n"
     ]
    },
    {
     "name": "stdout",
     "output_type": "stream",
     "text": [
      "NOTE: pick_channels() is a legacy function. New code should use inst.pick(...).\n"
     ]
    },
    {
     "name": "stderr",
     "output_type": "stream",
     "text": [
      "C:\\Users\\sh204\\AppData\\Local\\Temp\\ipykernel_23172\\3998698722.py:13: RuntimeWarning: The provided Raw instance is not filtered between 1 and 100 Hz. ICLabel was designed to classify features extracted from an EEG dataset bandpass filtered between 1 and 100 Hz (see the 'filter()' method for Raw and Epochs instances).\n",
      "  ic_labels = label_components(raw, ica, method=\"iclabel\")\n"
     ]
    },
    {
     "name": "stdout",
     "output_type": "stream",
     "text": [
      "NOTE: pick_channels() is a legacy function. New code should use inst.pick(...).\n"
     ]
    },
    {
     "name": "stderr",
     "output_type": "stream",
     "text": [
      "C:\\Users\\sh204\\AppData\\Local\\Temp\\ipykernel_23172\\3998698722.py:13: RuntimeWarning: The provided Raw instance is not filtered between 1 and 100 Hz. ICLabel was designed to classify features extracted from an EEG dataset bandpass filtered between 1 and 100 Hz (see the 'filter()' method for Raw and Epochs instances).\n",
      "  ic_labels = label_components(raw, ica, method=\"iclabel\")\n"
     ]
    },
    {
     "name": "stdout",
     "output_type": "stream",
     "text": [
      "NOTE: pick_channels() is a legacy function. New code should use inst.pick(...).\n"
     ]
    },
    {
     "name": "stderr",
     "output_type": "stream",
     "text": [
      "C:\\Users\\sh204\\AppData\\Local\\Temp\\ipykernel_23172\\3998698722.py:13: RuntimeWarning: The provided Raw instance is not filtered between 1 and 100 Hz. ICLabel was designed to classify features extracted from an EEG dataset bandpass filtered between 1 and 100 Hz (see the 'filter()' method for Raw and Epochs instances).\n",
      "  ic_labels = label_components(raw, ica, method=\"iclabel\")\n"
     ]
    },
    {
     "name": "stdout",
     "output_type": "stream",
     "text": [
      "NOTE: pick_channels() is a legacy function. New code should use inst.pick(...).\n"
     ]
    },
    {
     "name": "stderr",
     "output_type": "stream",
     "text": [
      "C:\\Users\\sh204\\AppData\\Local\\Temp\\ipykernel_23172\\3998698722.py:13: RuntimeWarning: The provided Raw instance is not filtered between 1 and 100 Hz. ICLabel was designed to classify features extracted from an EEG dataset bandpass filtered between 1 and 100 Hz (see the 'filter()' method for Raw and Epochs instances).\n",
      "  ic_labels = label_components(raw, ica, method=\"iclabel\")\n"
     ]
    },
    {
     "name": "stdout",
     "output_type": "stream",
     "text": [
      "NOTE: pick_channels() is a legacy function. New code should use inst.pick(...).\n"
     ]
    },
    {
     "name": "stderr",
     "output_type": "stream",
     "text": [
      "C:\\Users\\sh204\\AppData\\Local\\Temp\\ipykernel_23172\\3998698722.py:13: RuntimeWarning: The provided Raw instance is not filtered between 1 and 100 Hz. ICLabel was designed to classify features extracted from an EEG dataset bandpass filtered between 1 and 100 Hz (see the 'filter()' method for Raw and Epochs instances).\n",
      "  ic_labels = label_components(raw, ica, method=\"iclabel\")\n"
     ]
    },
    {
     "name": "stdout",
     "output_type": "stream",
     "text": [
      "NOTE: pick_channels() is a legacy function. New code should use inst.pick(...).\n"
     ]
    },
    {
     "name": "stderr",
     "output_type": "stream",
     "text": [
      "C:\\Users\\sh204\\AppData\\Local\\Temp\\ipykernel_23172\\3998698722.py:13: RuntimeWarning: The provided Raw instance is not filtered between 1 and 100 Hz. ICLabel was designed to classify features extracted from an EEG dataset bandpass filtered between 1 and 100 Hz (see the 'filter()' method for Raw and Epochs instances).\n",
      "  ic_labels = label_components(raw, ica, method=\"iclabel\")\n"
     ]
    },
    {
     "name": "stdout",
     "output_type": "stream",
     "text": [
      "NOTE: pick_channels() is a legacy function. New code should use inst.pick(...).\n"
     ]
    },
    {
     "name": "stderr",
     "output_type": "stream",
     "text": [
      "C:\\Users\\sh204\\AppData\\Local\\Temp\\ipykernel_23172\\3998698722.py:13: RuntimeWarning: The provided Raw instance is not filtered between 1 and 100 Hz. ICLabel was designed to classify features extracted from an EEG dataset bandpass filtered between 1 and 100 Hz (see the 'filter()' method for Raw and Epochs instances).\n",
      "  ic_labels = label_components(raw, ica, method=\"iclabel\")\n"
     ]
    },
    {
     "name": "stdout",
     "output_type": "stream",
     "text": [
      "NOTE: pick_channels() is a legacy function. New code should use inst.pick(...).\n"
     ]
    },
    {
     "name": "stderr",
     "output_type": "stream",
     "text": [
      "C:\\Users\\sh204\\AppData\\Local\\Temp\\ipykernel_23172\\3998698722.py:13: RuntimeWarning: The provided Raw instance is not filtered between 1 and 100 Hz. ICLabel was designed to classify features extracted from an EEG dataset bandpass filtered between 1 and 100 Hz (see the 'filter()' method for Raw and Epochs instances).\n",
      "  ic_labels = label_components(raw, ica, method=\"iclabel\")\n"
     ]
    },
    {
     "name": "stdout",
     "output_type": "stream",
     "text": [
      "NOTE: pick_channels() is a legacy function. New code should use inst.pick(...).\n"
     ]
    },
    {
     "name": "stderr",
     "output_type": "stream",
     "text": [
      "C:\\Users\\sh204\\AppData\\Local\\Temp\\ipykernel_23172\\3998698722.py:13: RuntimeWarning: The provided Raw instance is not filtered between 1 and 100 Hz. ICLabel was designed to classify features extracted from an EEG dataset bandpass filtered between 1 and 100 Hz (see the 'filter()' method for Raw and Epochs instances).\n",
      "  ic_labels = label_components(raw, ica, method=\"iclabel\")\n"
     ]
    },
    {
     "name": "stdout",
     "output_type": "stream",
     "text": [
      "NOTE: pick_channels() is a legacy function. New code should use inst.pick(...).\n"
     ]
    },
    {
     "name": "stderr",
     "output_type": "stream",
     "text": [
      "C:\\Users\\sh204\\AppData\\Local\\Temp\\ipykernel_23172\\3998698722.py:13: RuntimeWarning: The provided Raw instance is not filtered between 1 and 100 Hz. ICLabel was designed to classify features extracted from an EEG dataset bandpass filtered between 1 and 100 Hz (see the 'filter()' method for Raw and Epochs instances).\n",
      "  ic_labels = label_components(raw, ica, method=\"iclabel\")\n"
     ]
    },
    {
     "name": "stdout",
     "output_type": "stream",
     "text": [
      "NOTE: pick_channels() is a legacy function. New code should use inst.pick(...).\n"
     ]
    },
    {
     "name": "stderr",
     "output_type": "stream",
     "text": [
      "C:\\Users\\sh204\\AppData\\Local\\Temp\\ipykernel_23172\\3998698722.py:13: RuntimeWarning: The provided Raw instance is not filtered between 1 and 100 Hz. ICLabel was designed to classify features extracted from an EEG dataset bandpass filtered between 1 and 100 Hz (see the 'filter()' method for Raw and Epochs instances).\n",
      "  ic_labels = label_components(raw, ica, method=\"iclabel\")\n"
     ]
    },
    {
     "name": "stdout",
     "output_type": "stream",
     "text": [
      "NOTE: pick_channels() is a legacy function. New code should use inst.pick(...).\n"
     ]
    },
    {
     "name": "stderr",
     "output_type": "stream",
     "text": [
      "C:\\Users\\sh204\\AppData\\Local\\Temp\\ipykernel_23172\\3998698722.py:13: RuntimeWarning: The provided Raw instance is not filtered between 1 and 100 Hz. ICLabel was designed to classify features extracted from an EEG dataset bandpass filtered between 1 and 100 Hz (see the 'filter()' method for Raw and Epochs instances).\n",
      "  ic_labels = label_components(raw, ica, method=\"iclabel\")\n"
     ]
    },
    {
     "name": "stdout",
     "output_type": "stream",
     "text": [
      "NOTE: pick_channels() is a legacy function. New code should use inst.pick(...).\n"
     ]
    },
    {
     "name": "stderr",
     "output_type": "stream",
     "text": [
      "C:\\Users\\sh204\\AppData\\Local\\Temp\\ipykernel_23172\\3998698722.py:13: RuntimeWarning: The provided Raw instance is not filtered between 1 and 100 Hz. ICLabel was designed to classify features extracted from an EEG dataset bandpass filtered between 1 and 100 Hz (see the 'filter()' method for Raw and Epochs instances).\n",
      "  ic_labels = label_components(raw, ica, method=\"iclabel\")\n"
     ]
    },
    {
     "name": "stdout",
     "output_type": "stream",
     "text": [
      "NOTE: pick_channels() is a legacy function. New code should use inst.pick(...).\n"
     ]
    },
    {
     "name": "stderr",
     "output_type": "stream",
     "text": [
      "C:\\Users\\sh204\\AppData\\Local\\Temp\\ipykernel_23172\\3998698722.py:13: RuntimeWarning: The provided Raw instance is not filtered between 1 and 100 Hz. ICLabel was designed to classify features extracted from an EEG dataset bandpass filtered between 1 and 100 Hz (see the 'filter()' method for Raw and Epochs instances).\n",
      "  ic_labels = label_components(raw, ica, method=\"iclabel\")\n"
     ]
    }
   ],
   "source": [
    "mus_inds_list = []\n",
    "ica_list = []\n",
    "ic_labels_list = []\n",
    "components_flag_dict = {\"eye blink\": 0, \"heart beat\": 0, \"muscle artifact\": 0, \"line noise\": 0, \n",
    "                        \"channel noise\": 0, \"other\": 0}\n",
    "\n",
    "for raw in raws:\n",
    "    ica = mne.preprocessing.ICA(n_components=13, random_state=97, method=\"infomax\", fit_params=dict(extended=True))\n",
    "    ica.fit(raw, verbose=0)\n",
    "    ica_list.append(ica)\n",
    "    mus_inds, mus_scores = ica.find_bads_muscle(raw, verbose=0)\n",
    "    mus_inds_list.append(mus_inds)\n",
    "    ic_labels = label_components(raw, ica, method=\"iclabel\")\n",
    "    ic_labels_list.append(ic_labels[\"labels\"])\n",
    "    for key in components_flag_dict.keys():\n",
    "        if key in ic_labels[\"labels\"] and key != \"muscle artifact\":\n",
    "            components_flag_dict[key] += 1\n",
    "    if len(mus_inds) > 0:\n",
    "        components_flag_dict[\"muscle artifact\"] += 1"
   ]
  },
  {
   "cell_type": "code",
   "execution_count": 9,
   "id": "2260df6c-cad8-42ef-a735-1d5dfc8b701b",
   "metadata": {},
   "outputs": [
    {
     "data": {
      "text/plain": [
       "{'eye blink': 18,\n",
       " 'heart beat': 3,\n",
       " 'muscle artifact': 23,\n",
       " 'line noise': 0,\n",
       " 'channel noise': 3,\n",
       " 'other': 23}"
      ]
     },
     "execution_count": 9,
     "metadata": {},
     "output_type": "execute_result"
    }
   ],
   "source": [
    "components_flag_dict"
   ]
  },
  {
   "cell_type": "code",
   "execution_count": 10,
   "id": "a960695c-74eb-44e8-b6bf-bf6e0fc5403f",
   "metadata": {},
   "outputs": [],
   "source": [
    "all_data = []\n",
    "for i in range(len(ic_labels_list)):\n",
    "    labels = ic_labels_list[i]\n",
    "    \n",
    "    # eye artifact removal\n",
    "    eye_inds = [j for j, label in enumerate(labels) if labels == \"eye blink\"]\n",
    "    ica_list[i].exclude = eye_inds\n",
    "    raw_eye_removed = ica_list[i].apply(raws[i].copy(), verbose=0)\n",
    "    x_filter_eye_removed = raw_eye_removed.get_data()\n",
    "\n",
    "    # # heart artifact removal\n",
    "    # heart_inds = [j for j, label in enumerate(labels) if labels == \"heart beat\"]\n",
    "    # ica_list[i].exclude = heart_inds\n",
    "    # raw_heart_removed = ica_list[i].apply(raws[i].copy(), verbose=0)\n",
    "    # x_filter_heart_removed = raw_heart_removed.get_data()\n",
    "    \n",
    "    # muscle artifact removal\n",
    "    mus_inds = mus_inds_list[i]\n",
    "    ica_list[i].exclude = mus_inds\n",
    "    raw_muscle_removed = ica_list[i].apply(raws[i].copy(), verbose=0)\n",
    "    x_filter_muscle_removed = raw_muscle_removed.get_data()\n",
    "\n",
    "    # # line noise removal\n",
    "    # line_inds = [j for j, label in enumerate(labels) if labels == \"line noise\"]\n",
    "    # ica_list[i].exclude = line_inds\n",
    "    # raw_line_removed = ica_list[i].apply(raws[i].copy(), verbose=0)\n",
    "    # x_filter_line_removed = raw_line_removed.get_data()\n",
    "\n",
    "    # # channel noise removal\n",
    "    # channel_inds = [j for j, label in enumerate(labels) if labels == \"channel noise\"]\n",
    "    # ica_list[i].exclude = channel_inds\n",
    "    # raw_channel_removed = ica_list[i].apply(raws[i].copy(), verbose=0)\n",
    "    # x_filter_channel_removed = raw_channel_removed.get_data()\n",
    "\n",
    "    # all removal\n",
    "    ica_list[i].exclude = list(set(eye_inds + mus_inds))\n",
    "    raw_all_removed = ica_list[i].apply(raws[i].copy(), verbose=0)\n",
    "    x_filter_all_removed = raw_all_removed.get_data()\n",
    "\n",
    "    x = X[i].copy()\n",
    "    x_filter = raws[i].copy().get_data()\n",
    "    all_data.append(np.vstack([[x, x_filter, x_filter_eye_removed, x_filter_muscle_removed, x_filter_all_removed]]))"
   ]
  },
  {
   "cell_type": "code",
   "execution_count": 11,
   "id": "23de8d6c-b770-4974-93b5-dd4179ad3f49",
   "metadata": {},
   "outputs": [],
   "source": [
    "all_data = np.array(all_data)"
   ]
  },
  {
   "cell_type": "code",
   "execution_count": 12,
   "id": "c84d8425-d6bd-4098-8bd1-f7ca221b4506",
   "metadata": {},
   "outputs": [
    {
     "data": {
      "text/plain": [
       "(24, 5, 14, 15360)"
      ]
     },
     "execution_count": 12,
     "metadata": {},
     "output_type": "execute_result"
    }
   ],
   "source": [
    "all_data.shape"
   ]
  },
  {
   "cell_type": "code",
   "execution_count": 13,
   "id": "f357e7c0-8e8e-4ac1-9460-74e49b890a83",
   "metadata": {},
   "outputs": [],
   "source": [
    "np.savez('dataset/Crowdsource_filter_artifact_removal.npz', \n",
    "         x_all=all_data, y_all=y\n",
    "        )"
   ]
  },
  {
   "cell_type": "markdown",
   "id": "0184c770-5dbb-4b47-842a-0c40531bdda8",
   "metadata": {},
   "source": [
    "x_all:  \n",
    "(24, 5, 14, 15360)  \n",
    "(被験者数*2(eyesopen, eyesclose) アウトプットの種類, チャンネル数, 時間ステップ (2min, s_freq=128Hz))  \n",
    "アウトプットの種類について：  \n",
    "1. x\n",
    "2. x_filter\n",
    "3. x_filter_eye\n",
    "4. x_filter_muscle\n",
    "5. x_filter_all\n",
    "\n",
    "y_all:  \n",
    "(90, )  \n",
    "(被験者数*2(eyesopen, eyesclose))"
   ]
  },
  {
   "cell_type": "code",
   "execution_count": null,
   "id": "d397154b-12f8-410e-bfb0-76469257b5a9",
   "metadata": {},
   "outputs": [],
   "source": []
  }
 ],
 "metadata": {
  "kernelspec": {
   "display_name": "py39_pytorch",
   "language": "python",
   "name": "py39_pytorch"
  },
  "language_info": {
   "codemirror_mode": {
    "name": "ipython",
    "version": 3
   },
   "file_extension": ".py",
   "mimetype": "text/x-python",
   "name": "python",
   "nbconvert_exporter": "python",
   "pygments_lexer": "ipython3",
   "version": "3.9.13"
  }
 },
 "nbformat": 4,
 "nbformat_minor": 5
}
